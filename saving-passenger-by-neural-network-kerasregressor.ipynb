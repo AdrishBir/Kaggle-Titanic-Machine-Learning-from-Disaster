{
 "cells": [
  {
   "cell_type": "code",
   "execution_count": 1,
   "metadata": {
    "_cell_guid": "b1076dfc-b9ad-4769-8c92-a6c4dae69d19",
    "_uuid": "8f2839f25d086af736a60e9eeb907d3b93b6e0e5",
    "execution": {
     "iopub.execute_input": "2020-12-06T14:05:21.843255Z",
     "iopub.status.busy": "2020-12-06T14:05:21.842314Z",
     "iopub.status.idle": "2020-12-06T14:05:21.848674Z",
     "shell.execute_reply": "2020-12-06T14:05:21.847850Z"
    },
    "papermill": {
     "duration": 0.038058,
     "end_time": "2020-12-06T14:05:21.848892",
     "exception": false,
     "start_time": "2020-12-06T14:05:21.810834",
     "status": "completed"
    },
    "tags": []
   },
   "outputs": [
    {
     "name": "stdout",
     "output_type": "stream",
     "text": [
      "/kaggle/input/titanic/test.csv\n",
      "/kaggle/input/titanic/train.csv\n",
      "/kaggle/input/titanic/gender_submission.csv\n"
     ]
    }
   ],
   "source": [
    "# This Python 3 environment comes with many helpful analytics libraries installed\n",
    "# It is defined by the kaggle/python Docker image: https://github.com/kaggle/docker-python\n",
    "# For example, here's several helpful packages to load\n",
    "\n",
    "import numpy as np # linear algebra\n",
    "import pandas as pd # data processing, CSV file I/O (e.g. pd.read_csv)\n",
    "\n",
    "# Input data files are available in the read-only \"../input/\" directory\n",
    "# For example, running this (by clicking run or pressing Shift+Enter) will list all files under the input directory\n",
    "\n",
    "import os\n",
    "for dirname, _, filenames in os.walk('/kaggle/input'):\n",
    "    for filename in filenames:\n",
    "        print(os.path.join(dirname, filename))\n",
    "\n",
    "# You can write up to 20GB to the current directory (/kaggle/working/) that gets preserved as output when you create a version using \"Save & Run All\" \n",
    "# You can also write temporary files to /kaggle/temp/, but they won't be saved outside of the current session"
   ]
  },
  {
   "cell_type": "markdown",
   "metadata": {
    "papermill": {
     "duration": 0.023369,
     "end_time": "2020-12-06T14:05:21.896348",
     "exception": false,
     "start_time": "2020-12-06T14:05:21.872979",
     "status": "completed"
    },
    "tags": []
   },
   "source": [
    "# Hi,fellow kagglers. This is one of my first notebook here in kaggle. I demonstrated the use of a simple Keras Regressor(Neural network) in solving this classic Titanic problem.\n",
    " \n",
    "#           The Data Preparation is same just like other ML models. I imputed the null values and One hot encoded the categorical values.Also I have normalised the dtaa before feeding it to the neural net.Any suggestions are welcome , actually I am looking forward to your hacks to improve the model as well as myself."
   ]
  },
  {
   "cell_type": "code",
   "execution_count": 2,
   "metadata": {
    "_cell_guid": "79c7e3d0-c299-4dcb-8224-4455121ee9b0",
    "_uuid": "d629ff2d2480ee46fbb7e2d37f6b5fab8052498a",
    "execution": {
     "iopub.execute_input": "2020-12-06T14:05:21.952610Z",
     "iopub.status.busy": "2020-12-06T14:05:21.951803Z",
     "iopub.status.idle": "2020-12-06T14:05:23.166892Z",
     "shell.execute_reply": "2020-12-06T14:05:23.165950Z"
    },
    "papermill": {
     "duration": 1.247515,
     "end_time": "2020-12-06T14:05:23.167115",
     "exception": false,
     "start_time": "2020-12-06T14:05:21.919600",
     "status": "completed"
    },
    "tags": []
   },
   "outputs": [],
   "source": [
    "#Importing the necessary libraries \n",
    "\n",
    "import pandas as pd\n",
    "import numpy as np\n",
    "import matplotlib.pyplot as plt\n",
    "%matplotlib inline\n",
    "import seaborn as sns\n",
    "sns.set_style(\"darkgrid\")"
   ]
  },
  {
   "cell_type": "code",
   "execution_count": 3,
   "metadata": {
    "execution": {
     "iopub.execute_input": "2020-12-06T14:05:23.233960Z",
     "iopub.status.busy": "2020-12-06T14:05:23.232798Z",
     "iopub.status.idle": "2020-12-06T14:05:23.289099Z",
     "shell.execute_reply": "2020-12-06T14:05:23.288317Z"
    },
    "papermill": {
     "duration": 0.094686,
     "end_time": "2020-12-06T14:05:23.289237",
     "exception": false,
     "start_time": "2020-12-06T14:05:23.194551",
     "status": "completed"
    },
    "tags": []
   },
   "outputs": [
    {
     "data": {
      "text/html": [
       "<div>\n",
       "<style scoped>\n",
       "    .dataframe tbody tr th:only-of-type {\n",
       "        vertical-align: middle;\n",
       "    }\n",
       "\n",
       "    .dataframe tbody tr th {\n",
       "        vertical-align: top;\n",
       "    }\n",
       "\n",
       "    .dataframe thead th {\n",
       "        text-align: right;\n",
       "    }\n",
       "</style>\n",
       "<table border=\"1\" class=\"dataframe\">\n",
       "  <thead>\n",
       "    <tr style=\"text-align: right;\">\n",
       "      <th></th>\n",
       "      <th>PassengerId</th>\n",
       "      <th>Survived</th>\n",
       "      <th>Pclass</th>\n",
       "      <th>Name</th>\n",
       "      <th>Sex</th>\n",
       "      <th>Age</th>\n",
       "      <th>SibSp</th>\n",
       "      <th>Parch</th>\n",
       "      <th>Ticket</th>\n",
       "      <th>Fare</th>\n",
       "      <th>Cabin</th>\n",
       "      <th>Embarked</th>\n",
       "    </tr>\n",
       "  </thead>\n",
       "  <tbody>\n",
       "    <tr>\n",
       "      <th>0</th>\n",
       "      <td>1</td>\n",
       "      <td>0</td>\n",
       "      <td>3</td>\n",
       "      <td>Braund, Mr. Owen Harris</td>\n",
       "      <td>male</td>\n",
       "      <td>22.0</td>\n",
       "      <td>1</td>\n",
       "      <td>0</td>\n",
       "      <td>A/5 21171</td>\n",
       "      <td>7.2500</td>\n",
       "      <td>NaN</td>\n",
       "      <td>S</td>\n",
       "    </tr>\n",
       "    <tr>\n",
       "      <th>1</th>\n",
       "      <td>2</td>\n",
       "      <td>1</td>\n",
       "      <td>1</td>\n",
       "      <td>Cumings, Mrs. John Bradley (Florence Briggs Th...</td>\n",
       "      <td>female</td>\n",
       "      <td>38.0</td>\n",
       "      <td>1</td>\n",
       "      <td>0</td>\n",
       "      <td>PC 17599</td>\n",
       "      <td>71.2833</td>\n",
       "      <td>C85</td>\n",
       "      <td>C</td>\n",
       "    </tr>\n",
       "    <tr>\n",
       "      <th>2</th>\n",
       "      <td>3</td>\n",
       "      <td>1</td>\n",
       "      <td>3</td>\n",
       "      <td>Heikkinen, Miss. Laina</td>\n",
       "      <td>female</td>\n",
       "      <td>26.0</td>\n",
       "      <td>0</td>\n",
       "      <td>0</td>\n",
       "      <td>STON/O2. 3101282</td>\n",
       "      <td>7.9250</td>\n",
       "      <td>NaN</td>\n",
       "      <td>S</td>\n",
       "    </tr>\n",
       "    <tr>\n",
       "      <th>3</th>\n",
       "      <td>4</td>\n",
       "      <td>1</td>\n",
       "      <td>1</td>\n",
       "      <td>Futrelle, Mrs. Jacques Heath (Lily May Peel)</td>\n",
       "      <td>female</td>\n",
       "      <td>35.0</td>\n",
       "      <td>1</td>\n",
       "      <td>0</td>\n",
       "      <td>113803</td>\n",
       "      <td>53.1000</td>\n",
       "      <td>C123</td>\n",
       "      <td>S</td>\n",
       "    </tr>\n",
       "    <tr>\n",
       "      <th>4</th>\n",
       "      <td>5</td>\n",
       "      <td>0</td>\n",
       "      <td>3</td>\n",
       "      <td>Allen, Mr. William Henry</td>\n",
       "      <td>male</td>\n",
       "      <td>35.0</td>\n",
       "      <td>0</td>\n",
       "      <td>0</td>\n",
       "      <td>373450</td>\n",
       "      <td>8.0500</td>\n",
       "      <td>NaN</td>\n",
       "      <td>S</td>\n",
       "    </tr>\n",
       "  </tbody>\n",
       "</table>\n",
       "</div>"
      ],
      "text/plain": [
       "   PassengerId  Survived  Pclass  \\\n",
       "0            1         0       3   \n",
       "1            2         1       1   \n",
       "2            3         1       3   \n",
       "3            4         1       1   \n",
       "4            5         0       3   \n",
       "\n",
       "                                                Name     Sex   Age  SibSp  \\\n",
       "0                            Braund, Mr. Owen Harris    male  22.0      1   \n",
       "1  Cumings, Mrs. John Bradley (Florence Briggs Th...  female  38.0      1   \n",
       "2                             Heikkinen, Miss. Laina  female  26.0      0   \n",
       "3       Futrelle, Mrs. Jacques Heath (Lily May Peel)  female  35.0      1   \n",
       "4                           Allen, Mr. William Henry    male  35.0      0   \n",
       "\n",
       "   Parch            Ticket     Fare Cabin Embarked  \n",
       "0      0         A/5 21171   7.2500   NaN        S  \n",
       "1      0          PC 17599  71.2833   C85        C  \n",
       "2      0  STON/O2. 3101282   7.9250   NaN        S  \n",
       "3      0            113803  53.1000  C123        S  \n",
       "4      0            373450   8.0500   NaN        S  "
      ]
     },
     "execution_count": 3,
     "metadata": {},
     "output_type": "execute_result"
    }
   ],
   "source": [
    "#Loading the Titanic Datasets \n",
    "\n",
    "train = pd.read_csv('../input/titanic/train.csv')\n",
    "test = pd.read_csv('../input/titanic/test.csv')\n",
    "\n",
    "df=train.copy()\n",
    "df.head()"
   ]
  },
  {
   "cell_type": "code",
   "execution_count": 4,
   "metadata": {
    "execution": {
     "iopub.execute_input": "2020-12-06T14:05:23.357491Z",
     "iopub.status.busy": "2020-12-06T14:05:23.356465Z",
     "iopub.status.idle": "2020-12-06T14:05:23.360240Z",
     "shell.execute_reply": "2020-12-06T14:05:23.361226Z"
    },
    "papermill": {
     "duration": 0.047669,
     "end_time": "2020-12-06T14:05:23.361452",
     "exception": false,
     "start_time": "2020-12-06T14:05:23.313783",
     "status": "completed"
    },
    "tags": []
   },
   "outputs": [
    {
     "name": "stdout",
     "output_type": "stream",
     "text": [
      "<class 'pandas.core.frame.DataFrame'>\n",
      "RangeIndex: 891 entries, 0 to 890\n",
      "Data columns (total 12 columns):\n",
      " #   Column       Non-Null Count  Dtype  \n",
      "---  ------       --------------  -----  \n",
      " 0   PassengerId  891 non-null    int64  \n",
      " 1   Survived     891 non-null    int64  \n",
      " 2   Pclass       891 non-null    int64  \n",
      " 3   Name         891 non-null    object \n",
      " 4   Sex          891 non-null    object \n",
      " 5   Age          714 non-null    float64\n",
      " 6   SibSp        891 non-null    int64  \n",
      " 7   Parch        891 non-null    int64  \n",
      " 8   Ticket       891 non-null    object \n",
      " 9   Fare         891 non-null    float64\n",
      " 10  Cabin        204 non-null    object \n",
      " 11  Embarked     889 non-null    object \n",
      "dtypes: float64(2), int64(5), object(5)\n",
      "memory usage: 83.7+ KB\n"
     ]
    }
   ],
   "source": [
    "df.info()"
   ]
  },
  {
   "cell_type": "code",
   "execution_count": 5,
   "metadata": {
    "execution": {
     "iopub.execute_input": "2020-12-06T14:05:23.423666Z",
     "iopub.status.busy": "2020-12-06T14:05:23.422701Z",
     "iopub.status.idle": "2020-12-06T14:05:23.426900Z",
     "shell.execute_reply": "2020-12-06T14:05:23.427443Z"
    },
    "papermill": {
     "duration": 0.038137,
     "end_time": "2020-12-06T14:05:23.427603",
     "exception": false,
     "start_time": "2020-12-06T14:05:23.389466",
     "status": "completed"
    },
    "tags": []
   },
   "outputs": [
    {
     "data": {
      "text/plain": [
       "PassengerId      0\n",
       "Survived         0\n",
       "Pclass           0\n",
       "Name             0\n",
       "Sex              0\n",
       "Age            177\n",
       "SibSp            0\n",
       "Parch            0\n",
       "Ticket           0\n",
       "Fare             0\n",
       "Cabin          687\n",
       "Embarked         2\n",
       "dtype: int64"
      ]
     },
     "execution_count": 5,
     "metadata": {},
     "output_type": "execute_result"
    }
   ],
   "source": [
    "df.isnull().sum()"
   ]
  },
  {
   "cell_type": "code",
   "execution_count": 6,
   "metadata": {
    "execution": {
     "iopub.execute_input": "2020-12-06T14:05:23.493158Z",
     "iopub.status.busy": "2020-12-06T14:05:23.487350Z",
     "iopub.status.idle": "2020-12-06T14:05:23.496295Z",
     "shell.execute_reply": "2020-12-06T14:05:23.496861Z"
    },
    "papermill": {
     "duration": 0.043605,
     "end_time": "2020-12-06T14:05:23.497050",
     "exception": false,
     "start_time": "2020-12-06T14:05:23.453445",
     "status": "completed"
    },
    "tags": []
   },
   "outputs": [],
   "source": [
    "# Look at numeric and categorical values separately\n",
    "\n",
    "df_num = train[[\"Age\", \"SibSp\", \"Parch\", \"Fare\"]]\n",
    "df_cat = train[[\"Survived\", \"Pclass\", \"Sex\", \"Ticket\", \"Cabin\", \"Embarked\"]]"
   ]
  },
  {
   "cell_type": "code",
   "execution_count": 7,
   "metadata": {
    "execution": {
     "iopub.execute_input": "2020-12-06T14:05:23.554070Z",
     "iopub.status.busy": "2020-12-06T14:05:23.553219Z",
     "iopub.status.idle": "2020-12-06T14:05:25.048427Z",
     "shell.execute_reply": "2020-12-06T14:05:25.047742Z"
    },
    "papermill": {
     "duration": 1.525904,
     "end_time": "2020-12-06T14:05:25.048583",
     "exception": false,
     "start_time": "2020-12-06T14:05:23.522679",
     "status": "completed"
    },
    "tags": []
   },
   "outputs": [
    {
     "data": {
      "text/plain": [
       "array([[<matplotlib.axes._subplots.AxesSubplot object at 0x7fe11a4798d0>,\n",
       "        <matplotlib.axes._subplots.AxesSubplot object at 0x7fe11a325b90>],\n",
       "       [<matplotlib.axes._subplots.AxesSubplot object at 0x7fe11a275710>,\n",
       "        <matplotlib.axes._subplots.AxesSubplot object at 0x7fe11a2a9d90>]],\n",
       "      dtype=object)"
      ]
     },
     "execution_count": 7,
     "metadata": {},
     "output_type": "execute_result"
    },
    {
     "data": {
      "image/png": "[encoded data removed]",
      "text/plain": [
       "<Figure size 1440x1080 with 4 Axes>"
      ]
     },
     "metadata": {},
     "output_type": "display_data"
    }
   ],
   "source": [
    "df_num.hist(figsize=(20,15)) "
   ]
  },
  {
   "cell_type": "code",
   "execution_count": 8,
   "metadata": {
    "execution": {
     "iopub.execute_input": "2020-12-06T14:05:25.115231Z",
     "iopub.status.busy": "2020-12-06T14:05:25.114328Z",
     "iopub.status.idle": "2020-12-06T14:05:25.777993Z",
     "shell.execute_reply": "2020-12-06T14:05:25.778627Z"
    },
    "papermill": {
     "duration": 0.702061,
     "end_time": "2020-12-06T14:05:25.778782",
     "exception": false,
     "start_time": "2020-12-06T14:05:25.076721",
     "status": "completed"
    },
    "tags": []
   },
   "outputs": [
    {
     "data": {
      "text/plain": [
       "<matplotlib.axes._subplots.AxesSubplot at 0x7fe11a31a2d0>"
      ]
     },
     "execution_count": 8,
     "metadata": {},
     "output_type": "execute_result"
    },
    {
     "data": {
      "image/png": "[encoded data removed]",
      "text/plain": [
       "<Figure size 1440x720 with 2 Axes>"
      ]
     },
     "metadata": {},
     "output_type": "display_data"
    }
   ],
   "source": [
    "plt.figure(figsize=(20,10)) \n",
    "sns.heatmap(df.corr(),annot=True)"
   ]
  },
  {
   "cell_type": "code",
   "execution_count": 9,
   "metadata": {
    "execution": {
     "iopub.execute_input": "2020-12-06T14:05:25.855131Z",
     "iopub.status.busy": "2020-12-06T14:05:25.848497Z",
     "iopub.status.idle": "2020-12-06T14:05:25.860687Z",
     "shell.execute_reply": "2020-12-06T14:05:25.860003Z"
    },
    "papermill": {
     "duration": 0.052543,
     "end_time": "2020-12-06T14:05:25.860827",
     "exception": false,
     "start_time": "2020-12-06T14:05:25.808284",
     "status": "completed"
    },
    "tags": []
   },
   "outputs": [
    {
     "data": {
      "text/html": [
       "<div>\n",
       "<style scoped>\n",
       "    .dataframe tbody tr th:only-of-type {\n",
       "        vertical-align: middle;\n",
       "    }\n",
       "\n",
       "    .dataframe tbody tr th {\n",
       "        vertical-align: top;\n",
       "    }\n",
       "\n",
       "    .dataframe thead th {\n",
       "        text-align: right;\n",
       "    }\n",
       "</style>\n",
       "<table border=\"1\" class=\"dataframe\">\n",
       "  <thead>\n",
       "    <tr style=\"text-align: right;\">\n",
       "      <th></th>\n",
       "      <th>PassengerId</th>\n",
       "      <th>Survived</th>\n",
       "      <th>Pclass</th>\n",
       "      <th>Age</th>\n",
       "      <th>SibSp</th>\n",
       "      <th>Parch</th>\n",
       "      <th>Fare</th>\n",
       "    </tr>\n",
       "  </thead>\n",
       "  <tbody>\n",
       "    <tr>\n",
       "      <th>PassengerId</th>\n",
       "      <td>1.000000</td>\n",
       "      <td>-0.005007</td>\n",
       "      <td>-0.035144</td>\n",
       "      <td>0.036847</td>\n",
       "      <td>-0.057527</td>\n",
       "      <td>-0.001652</td>\n",
       "      <td>0.012658</td>\n",
       "    </tr>\n",
       "    <tr>\n",
       "      <th>Survived</th>\n",
       "      <td>-0.005007</td>\n",
       "      <td>1.000000</td>\n",
       "      <td>-0.338481</td>\n",
       "      <td>-0.077221</td>\n",
       "      <td>-0.035322</td>\n",
       "      <td>0.081629</td>\n",
       "      <td>0.257307</td>\n",
       "    </tr>\n",
       "    <tr>\n",
       "      <th>Pclass</th>\n",
       "      <td>-0.035144</td>\n",
       "      <td>-0.338481</td>\n",
       "      <td>1.000000</td>\n",
       "      <td>-0.369226</td>\n",
       "      <td>0.083081</td>\n",
       "      <td>0.018443</td>\n",
       "      <td>-0.549500</td>\n",
       "    </tr>\n",
       "    <tr>\n",
       "      <th>Age</th>\n",
       "      <td>0.036847</td>\n",
       "      <td>-0.077221</td>\n",
       "      <td>-0.369226</td>\n",
       "      <td>1.000000</td>\n",
       "      <td>-0.308247</td>\n",
       "      <td>-0.189119</td>\n",
       "      <td>0.096067</td>\n",
       "    </tr>\n",
       "    <tr>\n",
       "      <th>SibSp</th>\n",
       "      <td>-0.057527</td>\n",
       "      <td>-0.035322</td>\n",
       "      <td>0.083081</td>\n",
       "      <td>-0.308247</td>\n",
       "      <td>1.000000</td>\n",
       "      <td>0.414838</td>\n",
       "      <td>0.159651</td>\n",
       "    </tr>\n",
       "    <tr>\n",
       "      <th>Parch</th>\n",
       "      <td>-0.001652</td>\n",
       "      <td>0.081629</td>\n",
       "      <td>0.018443</td>\n",
       "      <td>-0.189119</td>\n",
       "      <td>0.414838</td>\n",
       "      <td>1.000000</td>\n",
       "      <td>0.216225</td>\n",
       "    </tr>\n",
       "    <tr>\n",
       "      <th>Fare</th>\n",
       "      <td>0.012658</td>\n",
       "      <td>0.257307</td>\n",
       "      <td>-0.549500</td>\n",
       "      <td>0.096067</td>\n",
       "      <td>0.159651</td>\n",
       "      <td>0.216225</td>\n",
       "      <td>1.000000</td>\n",
       "    </tr>\n",
       "  </tbody>\n",
       "</table>\n",
       "</div>"
      ],
      "text/plain": [
       "             PassengerId  Survived    Pclass       Age     SibSp     Parch  \\\n",
       "PassengerId     1.000000 -0.005007 -0.035144  0.036847 -0.057527 -0.001652   \n",
       "Survived       -0.005007  1.000000 -0.338481 -0.077221 -0.035322  0.081629   \n",
       "Pclass         -0.035144 -0.338481  1.000000 -0.369226  0.083081  0.018443   \n",
       "Age             0.036847 -0.077221 -0.369226  1.000000 -0.308247 -0.189119   \n",
       "SibSp          -0.057527 -0.035322  0.083081 -0.308247  1.000000  0.414838   \n",
       "Parch          -0.001652  0.081629  0.018443 -0.189119  0.414838  1.000000   \n",
       "Fare            0.012658  0.257307 -0.549500  0.096067  0.159651  0.216225   \n",
       "\n",
       "                 Fare  \n",
       "PassengerId  0.012658  \n",
       "Survived     0.257307  \n",
       "Pclass      -0.549500  \n",
       "Age          0.096067  \n",
       "SibSp        0.159651  \n",
       "Parch        0.216225  \n",
       "Fare         1.000000  "
      ]
     },
     "execution_count": 9,
     "metadata": {},
     "output_type": "execute_result"
    }
   ],
   "source": [
    "df.corr()"
   ]
  },
  {
   "cell_type": "code",
   "execution_count": 10,
   "metadata": {
    "execution": {
     "iopub.execute_input": "2020-12-06T14:05:25.937908Z",
     "iopub.status.busy": "2020-12-06T14:05:25.935129Z",
     "iopub.status.idle": "2020-12-06T14:05:26.666986Z",
     "shell.execute_reply": "2020-12-06T14:05:26.666221Z"
    },
    "papermill": {
     "duration": 0.775749,
     "end_time": "2020-12-06T14:05:26.667132",
     "exception": false,
     "start_time": "2020-12-06T14:05:25.891383",
     "status": "completed"
    },
    "tags": []
   },
   "outputs": [
    {
     "data": {
      "text/plain": [
       "<seaborn.axisgrid.PairGrid at 0x7fe11a2808d0>"
      ]
     },
     "execution_count": 10,
     "metadata": {},
     "output_type": "execute_result"
    },
    {
     "data": {
      "image/png": "[encoded data removed]",
      "text/plain": [
       "<Figure size 627.875x288 with 2 Axes>"
      ]
     },
     "metadata": {},
     "output_type": "display_data"
    }
   ],
   "source": [
    "sns.pairplot(df, hue='Survived', vars=  [[\"Age\", \"SibSp\", \"Parch\", \"Fare\"]],height=4,aspect=2)"
   ]
  },
  {
   "cell_type": "code",
   "execution_count": 11,
   "metadata": {
    "execution": {
     "iopub.execute_input": "2020-12-06T14:05:26.750950Z",
     "iopub.status.busy": "2020-12-06T14:05:26.749861Z",
     "iopub.status.idle": "2020-12-06T14:05:26.754483Z",
     "shell.execute_reply": "2020-12-06T14:05:26.755045Z"
    },
    "papermill": {
     "duration": 0.055885,
     "end_time": "2020-12-06T14:05:26.755216",
     "exception": false,
     "start_time": "2020-12-06T14:05:26.699331",
     "status": "completed"
    },
    "tags": []
   },
   "outputs": [
    {
     "data": {
      "text/html": [
       "<div>\n",
       "<style scoped>\n",
       "    .dataframe tbody tr th:only-of-type {\n",
       "        vertical-align: middle;\n",
       "    }\n",
       "\n",
       "    .dataframe tbody tr th {\n",
       "        vertical-align: top;\n",
       "    }\n",
       "\n",
       "    .dataframe thead th {\n",
       "        text-align: right;\n",
       "    }\n",
       "</style>\n",
       "<table border=\"1\" class=\"dataframe\">\n",
       "  <thead>\n",
       "    <tr style=\"text-align: right;\">\n",
       "      <th></th>\n",
       "      <th>PassengerId</th>\n",
       "      <th>Survived</th>\n",
       "      <th>Pclass</th>\n",
       "      <th>Name</th>\n",
       "      <th>Sex</th>\n",
       "      <th>Age</th>\n",
       "      <th>SibSp</th>\n",
       "      <th>Parch</th>\n",
       "      <th>Ticket</th>\n",
       "      <th>Fare</th>\n",
       "      <th>Cabin</th>\n",
       "      <th>Embarked</th>\n",
       "    </tr>\n",
       "  </thead>\n",
       "  <tbody>\n",
       "    <tr>\n",
       "      <th>0</th>\n",
       "      <td>1</td>\n",
       "      <td>0</td>\n",
       "      <td>3</td>\n",
       "      <td>Braund, Mr. Owen Harris</td>\n",
       "      <td>male</td>\n",
       "      <td>22.0</td>\n",
       "      <td>1</td>\n",
       "      <td>0</td>\n",
       "      <td>A/5 21171</td>\n",
       "      <td>7.2500</td>\n",
       "      <td>NaN</td>\n",
       "      <td>S</td>\n",
       "    </tr>\n",
       "    <tr>\n",
       "      <th>1</th>\n",
       "      <td>2</td>\n",
       "      <td>1</td>\n",
       "      <td>1</td>\n",
       "      <td>Cumings, Mrs. John Bradley (Florence Briggs Th...</td>\n",
       "      <td>female</td>\n",
       "      <td>38.0</td>\n",
       "      <td>1</td>\n",
       "      <td>0</td>\n",
       "      <td>PC 17599</td>\n",
       "      <td>71.2833</td>\n",
       "      <td>C85</td>\n",
       "      <td>C</td>\n",
       "    </tr>\n",
       "    <tr>\n",
       "      <th>2</th>\n",
       "      <td>3</td>\n",
       "      <td>1</td>\n",
       "      <td>3</td>\n",
       "      <td>Heikkinen, Miss. Laina</td>\n",
       "      <td>female</td>\n",
       "      <td>26.0</td>\n",
       "      <td>0</td>\n",
       "      <td>0</td>\n",
       "      <td>STON/O2. 3101282</td>\n",
       "      <td>7.9250</td>\n",
       "      <td>NaN</td>\n",
       "      <td>S</td>\n",
       "    </tr>\n",
       "    <tr>\n",
       "      <th>3</th>\n",
       "      <td>4</td>\n",
       "      <td>1</td>\n",
       "      <td>1</td>\n",
       "      <td>Futrelle, Mrs. Jacques Heath (Lily May Peel)</td>\n",
       "      <td>female</td>\n",
       "      <td>35.0</td>\n",
       "      <td>1</td>\n",
       "      <td>0</td>\n",
       "      <td>113803</td>\n",
       "      <td>53.1000</td>\n",
       "      <td>C123</td>\n",
       "      <td>S</td>\n",
       "    </tr>\n",
       "    <tr>\n",
       "      <th>4</th>\n",
       "      <td>5</td>\n",
       "      <td>0</td>\n",
       "      <td>3</td>\n",
       "      <td>Allen, Mr. William Henry</td>\n",
       "      <td>male</td>\n",
       "      <td>35.0</td>\n",
       "      <td>0</td>\n",
       "      <td>0</td>\n",
       "      <td>373450</td>\n",
       "      <td>8.0500</td>\n",
       "      <td>NaN</td>\n",
       "      <td>S</td>\n",
       "    </tr>\n",
       "  </tbody>\n",
       "</table>\n",
       "</div>"
      ],
      "text/plain": [
       "   PassengerId  Survived  Pclass  \\\n",
       "0            1         0       3   \n",
       "1            2         1       1   \n",
       "2            3         1       3   \n",
       "3            4         1       1   \n",
       "4            5         0       3   \n",
       "\n",
       "                                                Name     Sex   Age  SibSp  \\\n",
       "0                            Braund, Mr. Owen Harris    male  22.0      1   \n",
       "1  Cumings, Mrs. John Bradley (Florence Briggs Th...  female  38.0      1   \n",
       "2                             Heikkinen, Miss. Laina  female  26.0      0   \n",
       "3       Futrelle, Mrs. Jacques Heath (Lily May Peel)  female  35.0      1   \n",
       "4                           Allen, Mr. William Henry    male  35.0      0   \n",
       "\n",
       "   Parch            Ticket     Fare Cabin Embarked  \n",
       "0      0         A/5 21171   7.2500   NaN        S  \n",
       "1      0          PC 17599  71.2833   C85        C  \n",
       "2      0  STON/O2. 3101282   7.9250   NaN        S  \n",
       "3      0            113803  53.1000  C123        S  \n",
       "4      0            373450   8.0500   NaN        S  "
      ]
     },
     "execution_count": 11,
     "metadata": {},
     "output_type": "execute_result"
    }
   ],
   "source": [
    "df.head()"
   ]
  },
  {
   "cell_type": "code",
   "execution_count": 12,
   "metadata": {
    "execution": {
     "iopub.execute_input": "2020-12-06T14:05:26.827723Z",
     "iopub.status.busy": "2020-12-06T14:05:26.826671Z",
     "iopub.status.idle": "2020-12-06T14:05:26.830972Z",
     "shell.execute_reply": "2020-12-06T14:05:26.830324Z"
    },
    "papermill": {
     "duration": 0.042981,
     "end_time": "2020-12-06T14:05:26.831129",
     "exception": false,
     "start_time": "2020-12-06T14:05:26.788148",
     "status": "completed"
    },
    "tags": []
   },
   "outputs": [
    {
     "data": {
      "text/plain": [
       "['Survived', 'Pclass', 'Sex', 'Ticket', 'Cabin', 'Embarked']"
      ]
     },
     "execution_count": 12,
     "metadata": {},
     "output_type": "execute_result"
    }
   ],
   "source": [
    "df_cat.columns.tolist()"
   ]
  },
  {
   "cell_type": "code",
   "execution_count": 13,
   "metadata": {
    "execution": {
     "iopub.execute_input": "2020-12-06T14:05:26.912903Z",
     "iopub.status.busy": "2020-12-06T14:05:26.910630Z",
     "iopub.status.idle": "2020-12-06T14:05:27.515474Z",
     "shell.execute_reply": "2020-12-06T14:05:27.514761Z"
    },
    "papermill": {
     "duration": 0.650552,
     "end_time": "2020-12-06T14:05:27.515610",
     "exception": false,
     "start_time": "2020-12-06T14:05:26.865058",
     "status": "completed"
    },
    "tags": []
   },
   "outputs": [
    {
     "data": {
      "image/png": "[encoded data removed]",
      "text/plain": [
       "<Figure size 432x288 with 1 Axes>"
      ]
     },
     "metadata": {},
     "output_type": "display_data"
    },
    {
     "data": {
      "image/png": "[encoded data removed]",
      "text/plain": [
       "<Figure size 432x288 with 1 Axes>"
      ]
     },
     "metadata": {},
     "output_type": "display_data"
    },
    {
     "data": {
      "image/png": "[encoded data removed]",
      "text/plain": [
       "<Figure size 432x288 with 1 Axes>"
      ]
     },
     "metadata": {},
     "output_type": "display_data"
    }
   ],
   "source": [
    "for i in ['Pclass', 'Sex','Embarked']:\n",
    "    sns.countplot(x=i, data=df, palette='hls', hue='Survived')\n",
    "    plt.xticks(rotation=45)\n",
    "    plt.show()\n"
   ]
  },
  {
   "cell_type": "code",
   "execution_count": 14,
   "metadata": {
    "execution": {
     "iopub.execute_input": "2020-12-06T14:05:27.602256Z",
     "iopub.status.busy": "2020-12-06T14:05:27.601359Z",
     "iopub.status.idle": "2020-12-06T14:05:27.604699Z",
     "shell.execute_reply": "2020-12-06T14:05:27.603901Z"
    },
    "papermill": {
     "duration": 0.047182,
     "end_time": "2020-12-06T14:05:27.604830",
     "exception": false,
     "start_time": "2020-12-06T14:05:27.557648",
     "status": "completed"
    },
    "tags": []
   },
   "outputs": [],
   "source": [
    "df.drop(['Cabin', 'Name', 'Ticket', 'PassengerId'], axis=1, inplace=True)"
   ]
  },
  {
   "cell_type": "code",
   "execution_count": 15,
   "metadata": {
    "execution": {
     "iopub.execute_input": "2020-12-06T14:05:27.685414Z",
     "iopub.status.busy": "2020-12-06T14:05:27.683795Z",
     "iopub.status.idle": "2020-12-06T14:05:27.690317Z",
     "shell.execute_reply": "2020-12-06T14:05:27.689453Z"
    },
    "papermill": {
     "duration": 0.048799,
     "end_time": "2020-12-06T14:05:27.690456",
     "exception": false,
     "start_time": "2020-12-06T14:05:27.641657",
     "status": "completed"
    },
    "tags": []
   },
   "outputs": [
    {
     "name": "stdout",
     "output_type": "stream",
     "text": [
      "Index(['Survived', 'Pclass', 'Sex', 'Age', 'SibSp', 'Parch', 'Fare',\n",
      "       'Embarked'],\n",
      "      dtype='object')\n",
      "Index(['Age', 'SibSp', 'Parch', 'Fare'], dtype='object')\n",
      "Index(['Survived', 'Pclass', 'Sex', 'Ticket', 'Cabin', 'Embarked'], dtype='object')\n"
     ]
    }
   ],
   "source": [
    "print(df.columns)\n",
    "print(df_num.columns)\n",
    "print(df_cat.columns)"
   ]
  },
  {
   "cell_type": "code",
   "execution_count": 16,
   "metadata": {
    "execution": {
     "iopub.execute_input": "2020-12-06T14:05:27.774425Z",
     "iopub.status.busy": "2020-12-06T14:05:27.773499Z",
     "iopub.status.idle": "2020-12-06T14:05:28.133598Z",
     "shell.execute_reply": "2020-12-06T14:05:28.132902Z"
    },
    "papermill": {
     "duration": 0.406235,
     "end_time": "2020-12-06T14:05:28.133755",
     "exception": false,
     "start_time": "2020-12-06T14:05:27.727520",
     "status": "completed"
    },
    "tags": []
   },
   "outputs": [],
   "source": [
    "from sklearn.pipeline import Pipeline\n",
    "from sklearn.preprocessing import StandardScaler\n",
    "from sklearn.compose import ColumnTransformer\n",
    "from sklearn.preprocessing import OneHotEncoder\n",
    "from sklearn.impute import SimpleImputer\n",
    "\n",
    "\n",
    "num_attribs = ['Age', 'SibSp', 'Parch', 'Fare']\n",
    "cat_attribs = [ 'Pclass', 'Sex','Embarked']\n",
    "\n",
    "\n",
    "\n",
    "full_pipeline = ColumnTransformer([\n",
    "        (\"num\", StandardScaler(), num_attribs),\n",
    "        (\"cat\", OneHotEncoder(), cat_attribs),\n",
    "    ])"
   ]
  },
  {
   "cell_type": "code",
   "execution_count": 17,
   "metadata": {
    "execution": {
     "iopub.execute_input": "2020-12-06T14:05:28.223958Z",
     "iopub.status.busy": "2020-12-06T14:05:28.222994Z",
     "iopub.status.idle": "2020-12-06T14:05:28.227525Z",
     "shell.execute_reply": "2020-12-06T14:05:28.226715Z"
    },
    "papermill": {
     "duration": 0.05467,
     "end_time": "2020-12-06T14:05:28.227658",
     "exception": false,
     "start_time": "2020-12-06T14:05:28.172988",
     "status": "completed"
    },
    "tags": []
   },
   "outputs": [],
   "source": [
    "df['Age'] = SimpleImputer(strategy='mean').fit_transform(df[['Age']])"
   ]
  },
  {
   "cell_type": "code",
   "execution_count": 18,
   "metadata": {
    "execution": {
     "iopub.execute_input": "2020-12-06T14:05:28.317482Z",
     "iopub.status.busy": "2020-12-06T14:05:28.316711Z",
     "iopub.status.idle": "2020-12-06T14:05:28.319930Z",
     "shell.execute_reply": "2020-12-06T14:05:28.320501Z"
    },
    "papermill": {
     "duration": 0.055058,
     "end_time": "2020-12-06T14:05:28.320676",
     "exception": false,
     "start_time": "2020-12-06T14:05:28.265618",
     "status": "completed"
    },
    "tags": []
   },
   "outputs": [],
   "source": [
    "df['Embarked'] = SimpleImputer(strategy='constant',fill_value='S').fit_transform(df[['Embarked']])"
   ]
  },
  {
   "cell_type": "code",
   "execution_count": 19,
   "metadata": {
    "execution": {
     "iopub.execute_input": "2020-12-06T14:05:28.418828Z",
     "iopub.status.busy": "2020-12-06T14:05:28.411977Z",
     "iopub.status.idle": "2020-12-06T14:05:28.426340Z",
     "shell.execute_reply": "2020-12-06T14:05:28.425502Z"
    },
    "papermill": {
     "duration": 0.067939,
     "end_time": "2020-12-06T14:05:28.426480",
     "exception": false,
     "start_time": "2020-12-06T14:05:28.358541",
     "status": "completed"
    },
    "tags": []
   },
   "outputs": [
    {
     "name": "stdout",
     "output_type": "stream",
     "text": [
      "(891, 12)\n"
     ]
    }
   ],
   "source": [
    "X = df[['Pclass', 'Sex', 'Age', 'SibSp', 'Parch', 'Fare',\n",
    "       'Embarked']]\n",
    "y= df['Survived']\n",
    "\n",
    "X = full_pipeline.fit_transform(X)\n",
    "print(X.shape)"
   ]
  },
  {
   "cell_type": "code",
   "execution_count": 20,
   "metadata": {
    "execution": {
     "iopub.execute_input": "2020-12-06T14:05:28.512400Z",
     "iopub.status.busy": "2020-12-06T14:05:28.511463Z",
     "iopub.status.idle": "2020-12-06T14:05:35.101895Z",
     "shell.execute_reply": "2020-12-06T14:05:35.101091Z"
    },
    "papermill": {
     "duration": 6.635357,
     "end_time": "2020-12-06T14:05:35.102053",
     "exception": false,
     "start_time": "2020-12-06T14:05:28.466696",
     "status": "completed"
    },
    "tags": []
   },
   "outputs": [],
   "source": [
    "from keras.models import Sequential\n",
    "from keras.layers import Dense\n",
    "from keras.wrappers.scikit_learn import KerasRegressor\n",
    "from sklearn.model_selection import cross_val_score\n",
    "from sklearn.model_selection import KFold"
   ]
  },
  {
   "cell_type": "code",
   "execution_count": 21,
   "metadata": {
    "execution": {
     "iopub.execute_input": "2020-12-06T14:05:35.194986Z",
     "iopub.status.busy": "2020-12-06T14:05:35.194169Z",
     "iopub.status.idle": "2020-12-06T14:05:35.197573Z",
     "shell.execute_reply": "2020-12-06T14:05:35.196794Z"
    },
    "papermill": {
     "duration": 0.054866,
     "end_time": "2020-12-06T14:05:35.197712",
     "exception": false,
     "start_time": "2020-12-06T14:05:35.142846",
     "status": "completed"
    },
    "tags": []
   },
   "outputs": [],
   "source": [
    "def larger_model():\n",
    " # create model\n",
    " km = Sequential()\n",
    " km.add(Dense(X.shape[1], input_dim=X.shape[1], kernel_initializer='normal', activation='relu'))\n",
    " km.add(Dense(35, kernel_initializer='normal', activation='relu'))\n",
    " km.add(Dense(25, kernel_initializer='normal', activation='relu'))\n",
    " km.add(Dense(1, kernel_initializer='normal', activation='sigmoid'))\n",
    " # Compile model\n",
    " km.compile(loss='binary_crossentropy', optimizer='adam')\n",
    " return km\n",
    "\n",
    "# evaluate model with standardized dataset\n",
    "estimator = KerasRegressor(build_fn=larger_model, epochs=100, batch_size=5, verbose=1)\n",
    "#kfold = KFold(n_splits=5)\n",
    "#results = cross_val_score(estimator, X, y, cv=kfold)\n",
    "#print(\"Baseline: %.2f (%.2f) \" % (results.mean(), results.std()))"
   ]
  },
  {
   "cell_type": "code",
   "execution_count": 22,
   "metadata": {
    "execution": {
     "iopub.execute_input": "2020-12-06T14:05:35.284134Z",
     "iopub.status.busy": "2020-12-06T14:05:35.283219Z",
     "iopub.status.idle": "2020-12-06T14:06:04.767291Z",
     "shell.execute_reply": "2020-12-06T14:06:04.767941Z"
    },
    "papermill": {
     "duration": 29.531672,
     "end_time": "2020-12-06T14:06:04.768131",
     "exception": false,
     "start_time": "2020-12-06T14:05:35.236459",
     "status": "completed"
    },
    "tags": []
   },
   "outputs": [
    {
     "name": "stdout",
     "output_type": "stream",
     "text": [
      "Epoch 1/100\n",
      "179/179 [==============================] - 0s 2ms/step - loss: 0.6189\n",
      "Epoch 2/100\n",
      "179/179 [==============================] - 0s 2ms/step - loss: 0.4825\n",
      "Epoch 3/100\n",
      "179/179 [==============================] - 0s 2ms/step - loss: 0.4479\n",
      "Epoch 4/100\n",
      "179/179 [==============================] - 0s 2ms/step - loss: 0.4330\n",
      "Epoch 5/100\n",
      "179/179 [==============================] - 0s 1ms/step - loss: 0.4288\n",
      "Epoch 6/100\n",
      "179/179 [==============================] - 0s 2ms/step - loss: 0.4194\n",
      "Epoch 7/100\n",
      "179/179 [==============================] - 0s 2ms/step - loss: 0.4197\n",
      "Epoch 8/100\n",
      "179/179 [==============================] - 0s 1ms/step - loss: 0.4160\n",
      "Epoch 9/100\n",
      "179/179 [==============================] - 0s 1ms/step - loss: 0.4095\n",
      "Epoch 10/100\n",
      "179/179 [==============================] - 0s 2ms/step - loss: 0.4118\n",
      "Epoch 11/100\n",
      "179/179 [==============================] - 0s 2ms/step - loss: 0.4086\n",
      "Epoch 12/100\n",
      "179/179 [==============================] - 0s 1ms/step - loss: 0.4060\n",
      "Epoch 13/100\n",
      "179/179 [==============================] - 0s 2ms/step - loss: 0.4067\n",
      "Epoch 14/100\n",
      "179/179 [==============================] - 0s 2ms/step - loss: 0.3995\n",
      "Epoch 15/100\n",
      "179/179 [==============================] - 0s 1ms/step - loss: 0.4054\n",
      "Epoch 16/100\n",
      "179/179 [==============================] - 0s 2ms/step - loss: 0.4020\n",
      "Epoch 17/100\n",
      "179/179 [==============================] - 0s 2ms/step - loss: 0.3994\n",
      "Epoch 18/100\n",
      "179/179 [==============================] - 0s 2ms/step - loss: 0.4048\n",
      "Epoch 19/100\n",
      "179/179 [==============================] - 0s 2ms/step - loss: 0.3995\n",
      "Epoch 20/100\n",
      "179/179 [==============================] - 0s 2ms/step - loss: 0.3966\n",
      "Epoch 21/100\n",
      "179/179 [==============================] - 0s 1ms/step - loss: 0.3988\n",
      "Epoch 22/100\n",
      "179/179 [==============================] - 0s 1ms/step - loss: 0.4015\n",
      "Epoch 23/100\n",
      "179/179 [==============================] - 0s 2ms/step - loss: 0.3955\n",
      "Epoch 24/100\n",
      "179/179 [==============================] - 0s 2ms/step - loss: 0.3939\n",
      "Epoch 25/100\n",
      "179/179 [==============================] - 0s 1ms/step - loss: 0.3928\n",
      "Epoch 26/100\n",
      "179/179 [==============================] - 0s 2ms/step - loss: 0.4006\n",
      "Epoch 27/100\n",
      "179/179 [==============================] - 0s 2ms/step - loss: 0.3931\n",
      "Epoch 28/100\n",
      "179/179 [==============================] - 0s 2ms/step - loss: 0.3948\n",
      "Epoch 29/100\n",
      "179/179 [==============================] - 0s 2ms/step - loss: 0.3890\n",
      "Epoch 30/100\n",
      "179/179 [==============================] - 0s 2ms/step - loss: 0.3930\n",
      "Epoch 31/100\n",
      "179/179 [==============================] - 0s 2ms/step - loss: 0.3908\n",
      "Epoch 32/100\n",
      "179/179 [==============================] - 0s 2ms/step - loss: 0.3970\n",
      "Epoch 33/100\n",
      "179/179 [==============================] - 0s 2ms/step - loss: 0.3878\n",
      "Epoch 34/100\n",
      "179/179 [==============================] - 0s 2ms/step - loss: 0.3913\n",
      "Epoch 35/100\n",
      "179/179 [==============================] - 0s 2ms/step - loss: 0.3862\n",
      "Epoch 36/100\n",
      "179/179 [==============================] - 0s 1ms/step - loss: 0.3914\n",
      "Epoch 37/100\n",
      "179/179 [==============================] - 0s 2ms/step - loss: 0.3890\n",
      "Epoch 38/100\n",
      "179/179 [==============================] - 0s 2ms/step - loss: 0.3892\n",
      "Epoch 39/100\n",
      "179/179 [==============================] - 0s 1ms/step - loss: 0.3870\n",
      "Epoch 40/100\n",
      "179/179 [==============================] - 0s 1ms/step - loss: 0.3874\n",
      "Epoch 41/100\n",
      "179/179 [==============================] - 0s 2ms/step - loss: 0.3901\n",
      "Epoch 42/100\n",
      "179/179 [==============================] - 0s 1ms/step - loss: 0.3863\n",
      "Epoch 43/100\n",
      "179/179 [==============================] - 0s 2ms/step - loss: 0.3848\n",
      "Epoch 44/100\n",
      "179/179 [==============================] - 0s 2ms/step - loss: 0.3859\n",
      "Epoch 45/100\n",
      "179/179 [==============================] - 0s 2ms/step - loss: 0.3864\n",
      "Epoch 46/100\n",
      "179/179 [==============================] - 0s 2ms/step - loss: 0.3845\n",
      "Epoch 47/100\n",
      "179/179 [==============================] - 0s 2ms/step - loss: 0.3851\n",
      "Epoch 48/100\n",
      "179/179 [==============================] - 0s 2ms/step - loss: 0.3821\n",
      "Epoch 49/100\n",
      "179/179 [==============================] - 0s 1ms/step - loss: 0.3800\n",
      "Epoch 50/100\n",
      "179/179 [==============================] - 0s 1ms/step - loss: 0.3794\n",
      "Epoch 51/100\n",
      "179/179 [==============================] - 0s 1ms/step - loss: 0.3788\n",
      "Epoch 52/100\n",
      "179/179 [==============================] - 0s 2ms/step - loss: 0.3808\n",
      "Epoch 53/100\n",
      "179/179 [==============================] - 0s 1ms/step - loss: 0.3773\n",
      "Epoch 54/100\n",
      "179/179 [==============================] - 0s 2ms/step - loss: 0.3776\n",
      "Epoch 55/100\n",
      "179/179 [==============================] - 0s 2ms/step - loss: 0.3816\n",
      "Epoch 56/100\n",
      "179/179 [==============================] - 0s 2ms/step - loss: 0.3773\n",
      "Epoch 57/100\n",
      "179/179 [==============================] - 0s 2ms/step - loss: 0.3776\n",
      "Epoch 58/100\n",
      "179/179 [==============================] - 0s 1ms/step - loss: 0.3793\n",
      "Epoch 59/100\n",
      "179/179 [==============================] - 0s 2ms/step - loss: 0.3791\n",
      "Epoch 60/100\n",
      "179/179 [==============================] - 0s 1ms/step - loss: 0.3766\n",
      "Epoch 61/100\n",
      "179/179 [==============================] - 0s 1ms/step - loss: 0.3762\n",
      "Epoch 62/100\n",
      "179/179 [==============================] - 0s 1ms/step - loss: 0.3746\n",
      "Epoch 63/100\n",
      "179/179 [==============================] - 0s 2ms/step - loss: 0.3743\n",
      "Epoch 64/100\n",
      "179/179 [==============================] - 0s 2ms/step - loss: 0.3752\n",
      "Epoch 65/100\n",
      "179/179 [==============================] - 0s 2ms/step - loss: 0.3744\n",
      "Epoch 66/100\n",
      "179/179 [==============================] - 0s 2ms/step - loss: 0.3762\n",
      "Epoch 67/100\n",
      "179/179 [==============================] - 0s 2ms/step - loss: 0.3760\n",
      "Epoch 68/100\n",
      "179/179 [==============================] - 0s 1ms/step - loss: 0.3759\n",
      "Epoch 69/100\n",
      "179/179 [==============================] - 0s 1ms/step - loss: 0.3731\n",
      "Epoch 70/100\n",
      "179/179 [==============================] - 0s 2ms/step - loss: 0.3699\n",
      "Epoch 71/100\n",
      "179/179 [==============================] - 0s 1ms/step - loss: 0.3707\n",
      "Epoch 72/100\n",
      "179/179 [==============================] - 0s 2ms/step - loss: 0.3737\n",
      "Epoch 73/100\n",
      "179/179 [==============================] - 0s 2ms/step - loss: 0.3711\n",
      "Epoch 74/100\n",
      "179/179 [==============================] - 0s 2ms/step - loss: 0.3681\n",
      "Epoch 75/100\n",
      "179/179 [==============================] - 0s 2ms/step - loss: 0.3696\n",
      "Epoch 76/100\n",
      "179/179 [==============================] - 0s 2ms/step - loss: 0.3675\n",
      "Epoch 77/100\n",
      "179/179 [==============================] - 0s 2ms/step - loss: 0.3720\n",
      "Epoch 78/100\n",
      "179/179 [==============================] - 0s 2ms/step - loss: 0.3649\n",
      "Epoch 79/100\n",
      "179/179 [==============================] - 0s 1ms/step - loss: 0.3693\n",
      "Epoch 80/100\n",
      "179/179 [==============================] - 0s 2ms/step - loss: 0.3675\n",
      "Epoch 81/100\n",
      "179/179 [==============================] - 0s 1ms/step - loss: 0.3665\n",
      "Epoch 82/100\n",
      "179/179 [==============================] - 0s 1ms/step - loss: 0.3641\n",
      "Epoch 83/100\n",
      "179/179 [==============================] - 0s 2ms/step - loss: 0.3642\n",
      "Epoch 84/100\n",
      "179/179 [==============================] - 0s 2ms/step - loss: 0.3661\n",
      "Epoch 85/100\n",
      "179/179 [==============================] - 0s 1ms/step - loss: 0.3646\n",
      "Epoch 86/100\n",
      "179/179 [==============================] - 0s 2ms/step - loss: 0.3626\n",
      "Epoch 87/100\n",
      "179/179 [==============================] - 0s 2ms/step - loss: 0.3612\n",
      "Epoch 88/100\n",
      "179/179 [==============================] - 0s 2ms/step - loss: 0.3621\n",
      "Epoch 89/100\n",
      "179/179 [==============================] - 0s 2ms/step - loss: 0.3648\n",
      "Epoch 90/100\n",
      "179/179 [==============================] - 0s 2ms/step - loss: 0.3619\n",
      "Epoch 91/100\n",
      "179/179 [==============================] - 0s 2ms/step - loss: 0.3620\n",
      "Epoch 92/100\n",
      "179/179 [==============================] - 0s 2ms/step - loss: 0.3606\n",
      "Epoch 93/100\n",
      "179/179 [==============================] - 0s 1ms/step - loss: 0.3622\n",
      "Epoch 94/100\n",
      "179/179 [==============================] - 0s 2ms/step - loss: 0.3588\n",
      "Epoch 95/100\n",
      "179/179 [==============================] - 0s 2ms/step - loss: 0.3593\n",
      "Epoch 96/100\n",
      "179/179 [==============================] - 0s 2ms/step - loss: 0.3587\n",
      "Epoch 97/100\n",
      "179/179 [==============================] - 0s 1ms/step - loss: 0.3623\n",
      "Epoch 98/100\n",
      "179/179 [==============================] - 0s 2ms/step - loss: 0.3611\n",
      "Epoch 99/100\n",
      "179/179 [==============================] - 0s 2ms/step - loss: 0.3551\n",
      "Epoch 100/100\n",
      "179/179 [==============================] - 0s 2ms/step - loss: 0.3587\n"
     ]
    },
    {
     "data": {
      "text/plain": [
       "<tensorflow.python.keras.callbacks.History at 0x7fe0fc377890>"
      ]
     },
     "execution_count": 22,
     "metadata": {},
     "output_type": "execute_result"
    }
   ],
   "source": [
    "estimator.fit(X,y)"
   ]
  },
  {
   "cell_type": "code",
   "execution_count": 23,
   "metadata": {
    "execution": {
     "iopub.execute_input": "2020-12-06T14:06:05.447894Z",
     "iopub.status.busy": "2020-12-06T14:06:05.447147Z",
     "iopub.status.idle": "2020-12-06T14:06:05.450220Z",
     "shell.execute_reply": "2020-12-06T14:06:05.450851Z"
    },
    "papermill": {
     "duration": 0.341879,
     "end_time": "2020-12-06T14:06:05.451050",
     "exception": false,
     "start_time": "2020-12-06T14:06:05.109171",
     "status": "completed"
    },
    "tags": []
   },
   "outputs": [],
   "source": [
    "test_data = test.drop(['Cabin', 'Name', 'Ticket', 'PassengerId'], axis=1)"
   ]
  },
  {
   "cell_type": "code",
   "execution_count": 24,
   "metadata": {
    "execution": {
     "iopub.execute_input": "2020-12-06T14:06:06.129257Z",
     "iopub.status.busy": "2020-12-06T14:06:06.128458Z",
     "iopub.status.idle": "2020-12-06T14:06:06.132446Z",
     "shell.execute_reply": "2020-12-06T14:06:06.131813Z"
    },
    "papermill": {
     "duration": 0.352795,
     "end_time": "2020-12-06T14:06:06.132583",
     "exception": false,
     "start_time": "2020-12-06T14:06:05.779788",
     "status": "completed"
    },
    "tags": []
   },
   "outputs": [],
   "source": [
    "test_data['Age'] = SimpleImputer(strategy='mean').fit_transform(test_data[['Age']])\n",
    "test_data['Fare'] = SimpleImputer(strategy='mean').fit_transform(test_data[['Fare']])"
   ]
  },
  {
   "cell_type": "code",
   "execution_count": 25,
   "metadata": {
    "execution": {
     "iopub.execute_input": "2020-12-06T14:06:06.806753Z",
     "iopub.status.busy": "2020-12-06T14:06:06.805726Z",
     "iopub.status.idle": "2020-12-06T14:06:06.809283Z",
     "shell.execute_reply": "2020-12-06T14:06:06.809990Z"
    },
    "papermill": {
     "duration": 0.351422,
     "end_time": "2020-12-06T14:06:06.810224",
     "exception": false,
     "start_time": "2020-12-06T14:06:06.458802",
     "status": "completed"
    },
    "tags": []
   },
   "outputs": [
    {
     "name": "stdout",
     "output_type": "stream",
     "text": [
      "(418, 12)\n"
     ]
    }
   ],
   "source": [
    "test_data = full_pipeline.fit_transform(test_data)\n",
    "print(test_data.shape)"
   ]
  },
  {
   "cell_type": "code",
   "execution_count": 26,
   "metadata": {
    "execution": {
     "iopub.execute_input": "2020-12-06T14:06:07.519411Z",
     "iopub.status.busy": "2020-12-06T14:06:07.518273Z",
     "iopub.status.idle": "2020-12-06T14:06:07.826821Z",
     "shell.execute_reply": "2020-12-06T14:06:07.825986Z"
    },
    "papermill": {
     "duration": 0.669386,
     "end_time": "2020-12-06T14:06:07.826954",
     "exception": false,
     "start_time": "2020-12-06T14:06:07.157568",
     "status": "completed"
    },
    "tags": []
   },
   "outputs": [
    {
     "name": "stdout",
     "output_type": "stream",
     "text": [
      "84/84 [==============================] - 0s 1ms/step\n",
      "<class 'pandas.core.frame.DataFrame'>\n",
      "RangeIndex: 418 entries, 0 to 417\n",
      "Data columns (total 12 columns):\n",
      " #   Column       Non-Null Count  Dtype  \n",
      "---  ------       --------------  -----  \n",
      " 0   PassengerId  418 non-null    int64  \n",
      " 1   Pclass       418 non-null    int64  \n",
      " 2   Name         418 non-null    object \n",
      " 3   Sex          418 non-null    object \n",
      " 4   Age          332 non-null    float64\n",
      " 5   SibSp        418 non-null    int64  \n",
      " 6   Parch        418 non-null    int64  \n",
      " 7   Ticket       418 non-null    object \n",
      " 8   Fare         417 non-null    float64\n",
      " 9   Cabin        91 non-null     object \n",
      " 10  Embarked     418 non-null    object \n",
      " 11  Survived     418 non-null    float32\n",
      "dtypes: float32(1), float64(2), int64(4), object(5)\n",
      "memory usage: 37.7+ KB\n"
     ]
    }
   ],
   "source": [
    "test['Survived'] = estimator.predict(test_data)\n",
    "#solution = test[['PassengerId', 'Survived']]\n",
    "test.info()"
   ]
  },
  {
   "cell_type": "code",
   "execution_count": 27,
   "metadata": {
    "execution": {
     "iopub.execute_input": "2020-12-06T14:06:08.528362Z",
     "iopub.status.busy": "2020-12-06T14:06:08.527253Z",
     "iopub.status.idle": "2020-12-06T14:06:08.532986Z",
     "shell.execute_reply": "2020-12-06T14:06:08.532259Z"
    },
    "papermill": {
     "duration": 0.365061,
     "end_time": "2020-12-06T14:06:08.533136",
     "exception": false,
     "start_time": "2020-12-06T14:06:08.168075",
     "status": "completed"
    },
    "tags": []
   },
   "outputs": [
    {
     "data": {
      "text/html": [
       "<div>\n",
       "<style scoped>\n",
       "    .dataframe tbody tr th:only-of-type {\n",
       "        vertical-align: middle;\n",
       "    }\n",
       "\n",
       "    .dataframe tbody tr th {\n",
       "        vertical-align: top;\n",
       "    }\n",
       "\n",
       "    .dataframe thead th {\n",
       "        text-align: right;\n",
       "    }\n",
       "</style>\n",
       "<table border=\"1\" class=\"dataframe\">\n",
       "  <thead>\n",
       "    <tr style=\"text-align: right;\">\n",
       "      <th></th>\n",
       "      <th>PassengerId</th>\n",
       "      <th>Pclass</th>\n",
       "      <th>Name</th>\n",
       "      <th>Sex</th>\n",
       "      <th>Age</th>\n",
       "      <th>SibSp</th>\n",
       "      <th>Parch</th>\n",
       "      <th>Ticket</th>\n",
       "      <th>Fare</th>\n",
       "      <th>Cabin</th>\n",
       "      <th>Embarked</th>\n",
       "      <th>Survived</th>\n",
       "    </tr>\n",
       "  </thead>\n",
       "  <tbody>\n",
       "    <tr>\n",
       "      <th>0</th>\n",
       "      <td>892</td>\n",
       "      <td>3</td>\n",
       "      <td>Kelly, Mr. James</td>\n",
       "      <td>male</td>\n",
       "      <td>34.5</td>\n",
       "      <td>0</td>\n",
       "      <td>0</td>\n",
       "      <td>330911</td>\n",
       "      <td>7.8292</td>\n",
       "      <td>NaN</td>\n",
       "      <td>Q</td>\n",
       "      <td>0</td>\n",
       "    </tr>\n",
       "    <tr>\n",
       "      <th>1</th>\n",
       "      <td>893</td>\n",
       "      <td>3</td>\n",
       "      <td>Wilkes, Mrs. James (Ellen Needs)</td>\n",
       "      <td>female</td>\n",
       "      <td>47.0</td>\n",
       "      <td>1</td>\n",
       "      <td>0</td>\n",
       "      <td>363272</td>\n",
       "      <td>7.0000</td>\n",
       "      <td>NaN</td>\n",
       "      <td>S</td>\n",
       "      <td>0</td>\n",
       "    </tr>\n",
       "    <tr>\n",
       "      <th>2</th>\n",
       "      <td>894</td>\n",
       "      <td>2</td>\n",
       "      <td>Myles, Mr. Thomas Francis</td>\n",
       "      <td>male</td>\n",
       "      <td>62.0</td>\n",
       "      <td>0</td>\n",
       "      <td>0</td>\n",
       "      <td>240276</td>\n",
       "      <td>9.6875</td>\n",
       "      <td>NaN</td>\n",
       "      <td>Q</td>\n",
       "      <td>0</td>\n",
       "    </tr>\n",
       "    <tr>\n",
       "      <th>3</th>\n",
       "      <td>895</td>\n",
       "      <td>3</td>\n",
       "      <td>Wirz, Mr. Albert</td>\n",
       "      <td>male</td>\n",
       "      <td>27.0</td>\n",
       "      <td>0</td>\n",
       "      <td>0</td>\n",
       "      <td>315154</td>\n",
       "      <td>8.6625</td>\n",
       "      <td>NaN</td>\n",
       "      <td>S</td>\n",
       "      <td>0</td>\n",
       "    </tr>\n",
       "    <tr>\n",
       "      <th>4</th>\n",
       "      <td>896</td>\n",
       "      <td>3</td>\n",
       "      <td>Hirvonen, Mrs. Alexander (Helga E Lindqvist)</td>\n",
       "      <td>female</td>\n",
       "      <td>22.0</td>\n",
       "      <td>1</td>\n",
       "      <td>1</td>\n",
       "      <td>3101298</td>\n",
       "      <td>12.2875</td>\n",
       "      <td>NaN</td>\n",
       "      <td>S</td>\n",
       "      <td>0</td>\n",
       "    </tr>\n",
       "  </tbody>\n",
       "</table>\n",
       "</div>"
      ],
      "text/plain": [
       "   PassengerId  Pclass                                          Name     Sex  \\\n",
       "0          892       3                              Kelly, Mr. James    male   \n",
       "1          893       3              Wilkes, Mrs. James (Ellen Needs)  female   \n",
       "2          894       2                     Myles, Mr. Thomas Francis    male   \n",
       "3          895       3                              Wirz, Mr. Albert    male   \n",
       "4          896       3  Hirvonen, Mrs. Alexander (Helga E Lindqvist)  female   \n",
       "\n",
       "    Age  SibSp  Parch   Ticket     Fare Cabin Embarked  Survived  \n",
       "0  34.5      0      0   330911   7.8292   NaN        Q         0  \n",
       "1  47.0      1      0   363272   7.0000   NaN        S         0  \n",
       "2  62.0      0      0   240276   9.6875   NaN        Q         0  \n",
       "3  27.0      0      0   315154   8.6625   NaN        S         0  \n",
       "4  22.0      1      1  3101298  12.2875   NaN        S         0  "
      ]
     },
     "execution_count": 27,
     "metadata": {},
     "output_type": "execute_result"
    }
   ],
   "source": [
    "test['Survived'] = test['Survived'].apply(lambda x: round(x,0)).astype('int')\n",
    "test.head()"
   ]
  },
  {
   "cell_type": "code",
   "execution_count": 28,
   "metadata": {
    "execution": {
     "iopub.execute_input": "2020-12-06T14:06:09.250548Z",
     "iopub.status.busy": "2020-12-06T14:06:09.249453Z",
     "iopub.status.idle": "2020-12-06T14:06:09.313310Z",
     "shell.execute_reply": "2020-12-06T14:06:09.312248Z"
    },
    "papermill": {
     "duration": 0.428622,
     "end_time": "2020-12-06T14:06:09.313485",
     "exception": false,
     "start_time": "2020-12-06T14:06:08.884863",
     "status": "completed"
    },
    "tags": []
   },
   "outputs": [],
   "source": [
    "solution = test[['PassengerId', 'Survived']]\n",
    "solution.to_csv(\"titanic_solution.csv\", index=False)"
   ]
  }
 ],
 "metadata": {
  "kernelspec": {
   "display_name": "Python 3",
   "language": "python",
   "name": "python3"
  },
  "language_info": {
   "codemirror_mode": {
    "name": "ipython",
    "version": 3
   },
   "file_extension": ".py",
   "mimetype": "text/x-python",
   "name": "python",
   "nbconvert_exporter": "python",
   "pygments_lexer": "ipython3",
   "version": "3.7.6"
  },
  "papermill": {
   "duration": 53.434012,
   "end_time": "2020-12-06T14:06:09.767853",
   "environment_variables": {},
   "exception": null,
   "input_path": "__notebook__.ipynb",
   "output_path": "__notebook__.ipynb",
   "parameters": {},
   "start_time": "2020-12-06T14:05:16.333841",
   "version": "2.1.0"
  }
 },
 "nbformat": 4,
 "nbformat_minor": 4
}
